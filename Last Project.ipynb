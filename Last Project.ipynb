{
 "cells": [
  {
   "cell_type": "code",
   "execution_count": 32,
   "id": "69a76dc3",
   "metadata": {},
   "outputs": [
    {
     "name": "stdout",
     "output_type": "stream",
     "text": [
      "Collecting pandoc\n",
      "  Downloading pandoc-2.2.tar.gz (29 kB)\n",
      "Collecting plumbum\n",
      "  Downloading plumbum-1.7.2-py2.py3-none-any.whl (117 kB)\n",
      "Collecting ply\n",
      "  Downloading ply-3.11-py2.py3-none-any.whl (49 kB)\n",
      "Requirement already satisfied: pywin32 in c:\\users\\hp\\.jupyter\\nbconfig\\new folder\\new folder4\\lib\\site-packages (from plumbum->pandoc) (302)\n",
      "Building wheels for collected packages: pandoc\n",
      "  Building wheel for pandoc (setup.py): started\n",
      "  Building wheel for pandoc (setup.py): finished with status 'done'\n",
      "  Created wheel for pandoc: filename=pandoc-2.2-py3-none-any.whl size=29557 sha256=c22fcb7da74ce4090698dcf51d3d2f8a9b50aad483066ac75fca357b79d64255\n",
      "  Stored in directory: c:\\users\\hp\\appdata\\local\\pip\\cache\\wheels\\2d\\da\\b1\\54ff0401ef9b07b60c7fc9cffe616f243cf27dc3d04bd5d5ef\n",
      "Successfully built pandoc\n",
      "Installing collected packages: ply, plumbum, pandoc\n",
      "Successfully installed pandoc-2.2 plumbum-1.7.2 ply-3.11\n"
     ]
    }
   ],
   "source": [
    "!pip install pandoc"
   ]
  },
  {
   "cell_type": "code",
   "execution_count": 1,
   "id": "0d988ae1",
   "metadata": {},
   "outputs": [],
   "source": [
    "import pandas as pd\n",
    "import numpy as np\n",
    "import numpy as np\n",
    "import pandas as pd\n",
    "from os import path\n",
    "from PIL import Image\n",
    "from wordcloud import WordCloud, STOPWORDS, ImageColorGenerator\n",
    "\n",
    "import matplotlib.pyplot as plt\n",
    "%matplotlib inline\n"
   ]
  },
  {
   "cell_type": "code",
   "execution_count": 2,
   "id": "8aa89f2a",
   "metadata": {},
   "outputs": [
    {
     "data": {
      "text/html": [
       "<div>\n",
       "<style scoped>\n",
       "    .dataframe tbody tr th:only-of-type {\n",
       "        vertical-align: middle;\n",
       "    }\n",
       "\n",
       "    .dataframe tbody tr th {\n",
       "        vertical-align: top;\n",
       "    }\n",
       "\n",
       "    .dataframe thead th {\n",
       "        text-align: right;\n",
       "    }\n",
       "</style>\n",
       "<table border=\"1\" class=\"dataframe\">\n",
       "  <thead>\n",
       "    <tr style=\"text-align: right;\">\n",
       "      <th></th>\n",
       "      <th>Users</th>\n",
       "      <th>location</th>\n",
       "      <th>created_at</th>\n",
       "      <th>text</th>\n",
       "    </tr>\n",
       "  </thead>\n",
       "  <tbody>\n",
       "    <tr>\n",
       "      <th>0</th>\n",
       "      <td>MuskaanChawla_</td>\n",
       "      <td>Gurgaon, India</td>\n",
       "      <td>2022-06-15 07:56:59+00:00</td>\n",
       "      <td>RT @DaoLens: The funding saw participation fro...</td>\n",
       "    </tr>\n",
       "    <tr>\n",
       "      <th>1</th>\n",
       "      <td>Pooja89020</td>\n",
       "      <td>Jaipur, India</td>\n",
       "      <td>2022-06-15 07:32:27+00:00</td>\n",
       "      <td>@Snapdeal_Help You haven’t responded!</td>\n",
       "    </tr>\n",
       "    <tr>\n",
       "      <th>2</th>\n",
       "      <td>Snapdeal_Help</td>\n",
       "      <td>India</td>\n",
       "      <td>2022-06-15 07:31:59+00:00</td>\n",
       "      <td>@Pooja89020 Hi! We have responded to your Priv...</td>\n",
       "    </tr>\n",
       "    <tr>\n",
       "      <th>3</th>\n",
       "      <td>Pooja89020</td>\n",
       "      <td>Jaipur, India</td>\n",
       "      <td>2022-06-15 07:26:09+00:00</td>\n",
       "      <td>@Snapdeal_Help Better reply on private message</td>\n",
       "    </tr>\n",
       "    <tr>\n",
       "      <th>4</th>\n",
       "      <td>Snapdeal_Help</td>\n",
       "      <td>India</td>\n",
       "      <td>2022-06-15 07:25:13+00:00</td>\n",
       "      <td>@Pooja89020 Hi! Sincere apologies for the unpl...</td>\n",
       "    </tr>\n",
       "    <tr>\n",
       "      <th>...</th>\n",
       "      <td>...</td>\n",
       "      <td>...</td>\n",
       "      <td>...</td>\n",
       "      <td>...</td>\n",
       "    </tr>\n",
       "    <tr>\n",
       "      <th>4958</th>\n",
       "      <td>SoberIsToSuffer</td>\n",
       "      <td>United Kingdom</td>\n",
       "      <td>2022-06-22 07:04:46+00:00</td>\n",
       "      <td>RT @m4rjinn: I wanna make an Amazon OC... just...</td>\n",
       "    </tr>\n",
       "    <tr>\n",
       "      <th>4959</th>\n",
       "      <td>GeekDiscounts</td>\n",
       "      <td>London, England</td>\n",
       "      <td>2022-06-22 07:04:46+00:00</td>\n",
       "      <td>Ad: 16% OFF plus £4.20 Voucher - Mario Striker...</td>\n",
       "    </tr>\n",
       "    <tr>\n",
       "      <th>4960</th>\n",
       "      <td>TabathaWild_18</td>\n",
       "      <td>United Kingdom</td>\n",
       "      <td>2022-06-22 07:04:46+00:00</td>\n",
       "      <td>RT @BetteAStevens: Get away from it all withou...</td>\n",
       "    </tr>\n",
       "    <tr>\n",
       "      <th>4961</th>\n",
       "      <td>KayTee15355740</td>\n",
       "      <td>England, United Kingdom</td>\n",
       "      <td>2022-06-22 07:04:45+00:00</td>\n",
       "      <td>£3.99 &amp;gt;&amp;gt;&amp;gt; FROM £5.99\\n.\\nPRICE DROP +...</td>\n",
       "    </tr>\n",
       "    <tr>\n",
       "      <th>4962</th>\n",
       "      <td>KathleenHarrym1</td>\n",
       "      <td>York, England</td>\n",
       "      <td>2022-06-22 07:04:44+00:00</td>\n",
       "      <td>RT @SusanneLeist: A #99cents sale\\ngoes beyond...</td>\n",
       "    </tr>\n",
       "  </tbody>\n",
       "</table>\n",
       "<p>4963 rows × 4 columns</p>\n",
       "</div>"
      ],
      "text/plain": [
       "                Users                 location                 created_at  \\\n",
       "0      MuskaanChawla_           Gurgaon, India  2022-06-15 07:56:59+00:00   \n",
       "1          Pooja89020            Jaipur, India  2022-06-15 07:32:27+00:00   \n",
       "2       Snapdeal_Help                    India  2022-06-15 07:31:59+00:00   \n",
       "3          Pooja89020            Jaipur, India  2022-06-15 07:26:09+00:00   \n",
       "4       Snapdeal_Help                    India  2022-06-15 07:25:13+00:00   \n",
       "...               ...                      ...                        ...   \n",
       "4958  SoberIsToSuffer           United Kingdom  2022-06-22 07:04:46+00:00   \n",
       "4959    GeekDiscounts          London, England  2022-06-22 07:04:46+00:00   \n",
       "4960   TabathaWild_18           United Kingdom  2022-06-22 07:04:46+00:00   \n",
       "4961   KayTee15355740  England, United Kingdom  2022-06-22 07:04:45+00:00   \n",
       "4962  KathleenHarrym1            York, England  2022-06-22 07:04:44+00:00   \n",
       "\n",
       "                                                   text  \n",
       "0     RT @DaoLens: The funding saw participation fro...  \n",
       "1                 @Snapdeal_Help You haven’t responded!  \n",
       "2     @Pooja89020 Hi! We have responded to your Priv...  \n",
       "3        @Snapdeal_Help Better reply on private message  \n",
       "4     @Pooja89020 Hi! Sincere apologies for the unpl...  \n",
       "...                                                 ...  \n",
       "4958  RT @m4rjinn: I wanna make an Amazon OC... just...  \n",
       "4959  Ad: 16% OFF plus £4.20 Voucher - Mario Striker...  \n",
       "4960  RT @BetteAStevens: Get away from it all withou...  \n",
       "4961  £3.99 &gt;&gt;&gt; FROM £5.99\\n.\\nPRICE DROP +...  \n",
       "4962  RT @SusanneLeist: A #99cents sale\\ngoes beyond...  \n",
       "\n",
       "[4963 rows x 4 columns]"
      ]
     },
     "execution_count": 2,
     "metadata": {},
     "output_type": "execute_result"
    }
   ],
   "source": [
    "dt1=pd.read_csv(r\"C:\\Users\\HP\\Desktop\\python/Amazon_data.csv\")\n",
    "dt1"
   ]
  },
  {
   "cell_type": "code",
   "execution_count": 3,
   "id": "735f2cc2",
   "metadata": {},
   "outputs": [
    {
     "data": {
      "text/html": [
       "<div>\n",
       "<style scoped>\n",
       "    .dataframe tbody tr th:only-of-type {\n",
       "        vertical-align: middle;\n",
       "    }\n",
       "\n",
       "    .dataframe tbody tr th {\n",
       "        vertical-align: top;\n",
       "    }\n",
       "\n",
       "    .dataframe thead th {\n",
       "        text-align: right;\n",
       "    }\n",
       "</style>\n",
       "<table border=\"1\" class=\"dataframe\">\n",
       "  <thead>\n",
       "    <tr style=\"text-align: right;\">\n",
       "      <th></th>\n",
       "      <th>Users</th>\n",
       "      <th>location</th>\n",
       "      <th>created_at</th>\n",
       "      <th>text</th>\n",
       "    </tr>\n",
       "  </thead>\n",
       "  <tbody>\n",
       "    <tr>\n",
       "      <th>0</th>\n",
       "      <td>PrayasArora</td>\n",
       "      <td>Amritsar</td>\n",
       "      <td>2022-06-14 15:19:30+00:00</td>\n",
       "      <td>@Flipkart : Can you please help me with return...</td>\n",
       "    </tr>\n",
       "    <tr>\n",
       "      <th>1</th>\n",
       "      <td>Rahulrrk1210</td>\n",
       "      <td>Nadiad, India</td>\n",
       "      <td>2022-06-14 15:19:24+00:00</td>\n",
       "      <td>RT @sushikimaa: Flipkart live \\n\\nPart1 @pooja...</td>\n",
       "    </tr>\n",
       "    <tr>\n",
       "      <th>2</th>\n",
       "      <td>gowtham3834</td>\n",
       "      <td>chennai</td>\n",
       "      <td>2022-06-14 15:19:19+00:00</td>\n",
       "      <td>Nothing Phone 1 is being manufactured in India...</td>\n",
       "    </tr>\n",
       "    <tr>\n",
       "      <th>3</th>\n",
       "      <td>flipkartsupport</td>\n",
       "      <td>India</td>\n",
       "      <td>2022-06-14 15:19:08+00:00</td>\n",
       "      <td>@AshishB_1985 In the future, please ensure tha...</td>\n",
       "    </tr>\n",
       "    <tr>\n",
       "      <th>4</th>\n",
       "      <td>iamsb71</td>\n",
       "      <td>India</td>\n",
       "      <td>2022-06-14 15:19:01+00:00</td>\n",
       "      <td>Poor customer service by Flipkart and worst lo...</td>\n",
       "    </tr>\n",
       "    <tr>\n",
       "      <th>...</th>\n",
       "      <td>...</td>\n",
       "      <td>...</td>\n",
       "      <td>...</td>\n",
       "      <td>...</td>\n",
       "    </tr>\n",
       "    <tr>\n",
       "      <th>6302</th>\n",
       "      <td>AshwiniMahadik</td>\n",
       "      <td>Mumbai, India</td>\n",
       "      <td>2022-06-21 12:37:02+00:00</td>\n",
       "      <td>@ankur_zen @Flipkart I rarely order from @Flip...</td>\n",
       "    </tr>\n",
       "    <tr>\n",
       "      <th>6303</th>\n",
       "      <td>flipkartsupport</td>\n",
       "      <td>India</td>\n",
       "      <td>2022-06-21 12:36:48+00:00</td>\n",
       "      <td>@Ashutoshr2725 To ensure that your Flipkart ac...</td>\n",
       "    </tr>\n",
       "    <tr>\n",
       "      <th>6304</th>\n",
       "      <td>RanaRav14638171</td>\n",
       "      <td>Gujarat, India</td>\n",
       "      <td>2022-06-21 12:36:14+00:00</td>\n",
       "      <td>RT @realmeTechLife: Find more time to focus on...</td>\n",
       "    </tr>\n",
       "    <tr>\n",
       "      <th>6305</th>\n",
       "      <td>flipkartsupport</td>\n",
       "      <td>India</td>\n",
       "      <td>2022-06-21 12:36:04+00:00</td>\n",
       "      <td>@kumaarashish93 To ensure that your Flipkart a...</td>\n",
       "    </tr>\n",
       "    <tr>\n",
       "      <th>6306</th>\n",
       "      <td>ankur_zen</td>\n",
       "      <td>Delhi</td>\n",
       "      <td>2022-06-21 12:35:41+00:00</td>\n",
       "      <td>@flipkartsupport Check the below mail received...</td>\n",
       "    </tr>\n",
       "  </tbody>\n",
       "</table>\n",
       "<p>6307 rows × 4 columns</p>\n",
       "</div>"
      ],
      "text/plain": [
       "                Users        location                 created_at  \\\n",
       "0         PrayasArora        Amritsar  2022-06-14 15:19:30+00:00   \n",
       "1        Rahulrrk1210   Nadiad, India  2022-06-14 15:19:24+00:00   \n",
       "2         gowtham3834         chennai  2022-06-14 15:19:19+00:00   \n",
       "3     flipkartsupport           India  2022-06-14 15:19:08+00:00   \n",
       "4             iamsb71           India  2022-06-14 15:19:01+00:00   \n",
       "...               ...             ...                        ...   \n",
       "6302   AshwiniMahadik   Mumbai, India  2022-06-21 12:37:02+00:00   \n",
       "6303  flipkartsupport           India  2022-06-21 12:36:48+00:00   \n",
       "6304  RanaRav14638171  Gujarat, India  2022-06-21 12:36:14+00:00   \n",
       "6305  flipkartsupport           India  2022-06-21 12:36:04+00:00   \n",
       "6306        ankur_zen           Delhi  2022-06-21 12:35:41+00:00   \n",
       "\n",
       "                                                   text  \n",
       "0     @Flipkart : Can you please help me with return...  \n",
       "1     RT @sushikimaa: Flipkart live \\n\\nPart1 @pooja...  \n",
       "2     Nothing Phone 1 is being manufactured in India...  \n",
       "3     @AshishB_1985 In the future, please ensure tha...  \n",
       "4     Poor customer service by Flipkart and worst lo...  \n",
       "...                                                 ...  \n",
       "6302  @ankur_zen @Flipkart I rarely order from @Flip...  \n",
       "6303  @Ashutoshr2725 To ensure that your Flipkart ac...  \n",
       "6304  RT @realmeTechLife: Find more time to focus on...  \n",
       "6305  @kumaarashish93 To ensure that your Flipkart a...  \n",
       "6306  @flipkartsupport Check the below mail received...  \n",
       "\n",
       "[6307 rows x 4 columns]"
      ]
     },
     "execution_count": 3,
     "metadata": {},
     "output_type": "execute_result"
    }
   ],
   "source": [
    "dt2=pd.read_csv(r\"C:\\Users\\HP\\Desktop\\python/flipkart1_data.csv\")\n",
    "dt2"
   ]
  },
  {
   "cell_type": "code",
   "execution_count": 4,
   "id": "7a5fbb5b",
   "metadata": {},
   "outputs": [
    {
     "data": {
      "text/html": [
       "<div>\n",
       "<style scoped>\n",
       "    .dataframe tbody tr th:only-of-type {\n",
       "        vertical-align: middle;\n",
       "    }\n",
       "\n",
       "    .dataframe tbody tr th {\n",
       "        vertical-align: top;\n",
       "    }\n",
       "\n",
       "    .dataframe thead th {\n",
       "        text-align: right;\n",
       "    }\n",
       "</style>\n",
       "<table border=\"1\" class=\"dataframe\">\n",
       "  <thead>\n",
       "    <tr style=\"text-align: right;\">\n",
       "      <th></th>\n",
       "      <th>Users</th>\n",
       "      <th>location</th>\n",
       "      <th>created_at</th>\n",
       "      <th>text</th>\n",
       "    </tr>\n",
       "  </thead>\n",
       "  <tbody>\n",
       "    <tr>\n",
       "      <th>0</th>\n",
       "      <td>weareyandi</td>\n",
       "      <td>India</td>\n",
       "      <td>2022-06-23 06:47:39+00:00</td>\n",
       "      <td>RT @snapdeal: What’s better than monsoon essen...</td>\n",
       "    </tr>\n",
       "    <tr>\n",
       "      <th>1</th>\n",
       "      <td>snapdeal</td>\n",
       "      <td>India</td>\n",
       "      <td>2022-06-23 06:42:55+00:00</td>\n",
       "      <td>What’s better than monsoon essentials that mat...</td>\n",
       "    </tr>\n",
       "    <tr>\n",
       "      <th>2</th>\n",
       "      <td>Ramandas7</td>\n",
       "      <td>Haryana india</td>\n",
       "      <td>2022-06-23 06:28:43+00:00</td>\n",
       "      <td>@TommyHilfiger @CalvinKlein @Mango @VeroModaIn...</td>\n",
       "    </tr>\n",
       "    <tr>\n",
       "      <th>3</th>\n",
       "      <td>Snapdeal_Help</td>\n",
       "      <td>India</td>\n",
       "      <td>2022-06-23 05:31:46+00:00</td>\n",
       "      <td>@satyam032 Hi! Sorry for the inconvenience cau...</td>\n",
       "    </tr>\n",
       "    <tr>\n",
       "      <th>4</th>\n",
       "      <td>satyam032</td>\n",
       "      <td>Ranchi</td>\n",
       "      <td>2022-06-23 05:30:58+00:00</td>\n",
       "      <td>@snapdeal Worst customer care service avoid Sn...</td>\n",
       "    </tr>\n",
       "    <tr>\n",
       "      <th>...</th>\n",
       "      <td>...</td>\n",
       "      <td>...</td>\n",
       "      <td>...</td>\n",
       "      <td>...</td>\n",
       "    </tr>\n",
       "    <tr>\n",
       "      <th>2476</th>\n",
       "      <td>Snapdeal_Help</td>\n",
       "      <td>India</td>\n",
       "      <td>2022-06-10 13:34:15+00:00</td>\n",
       "      <td>@gola_ranjana Hi! As conveyed to you over the ...</td>\n",
       "    </tr>\n",
       "    <tr>\n",
       "      <th>2477</th>\n",
       "      <td>Snapdeal_Help</td>\n",
       "      <td>India</td>\n",
       "      <td>2022-06-10 13:30:39+00:00</td>\n",
       "      <td>@gola_ranjana Our team got in touch with you a...</td>\n",
       "    </tr>\n",
       "    <tr>\n",
       "      <th>2478</th>\n",
       "      <td>gola_ranjana</td>\n",
       "      <td>Agra, India</td>\n",
       "      <td>2022-06-10 13:30:03+00:00</td>\n",
       "      <td>@snapdeal Worst experience …return policy bhut...</td>\n",
       "    </tr>\n",
       "    <tr>\n",
       "      <th>2479</th>\n",
       "      <td>gola_ranjana</td>\n",
       "      <td>Agra, India</td>\n",
       "      <td>2022-06-10 13:28:41+00:00</td>\n",
       "      <td>@snapdeal Refund my money</td>\n",
       "    </tr>\n",
       "    <tr>\n",
       "      <th>2480</th>\n",
       "      <td>gola_ranjana</td>\n",
       "      <td>Agra, India</td>\n",
       "      <td>2022-06-10 13:28:29+00:00</td>\n",
       "      <td>@snapdeal Refund my money</td>\n",
       "    </tr>\n",
       "  </tbody>\n",
       "</table>\n",
       "<p>2481 rows × 4 columns</p>\n",
       "</div>"
      ],
      "text/plain": [
       "              Users       location                 created_at  \\\n",
       "0        weareyandi          India  2022-06-23 06:47:39+00:00   \n",
       "1          snapdeal          India  2022-06-23 06:42:55+00:00   \n",
       "2         Ramandas7  Haryana india  2022-06-23 06:28:43+00:00   \n",
       "3     Snapdeal_Help          India  2022-06-23 05:31:46+00:00   \n",
       "4         satyam032         Ranchi  2022-06-23 05:30:58+00:00   \n",
       "...             ...            ...                        ...   \n",
       "2476  Snapdeal_Help          India  2022-06-10 13:34:15+00:00   \n",
       "2477  Snapdeal_Help          India  2022-06-10 13:30:39+00:00   \n",
       "2478   gola_ranjana    Agra, India  2022-06-10 13:30:03+00:00   \n",
       "2479   gola_ranjana    Agra, India  2022-06-10 13:28:41+00:00   \n",
       "2480   gola_ranjana    Agra, India  2022-06-10 13:28:29+00:00   \n",
       "\n",
       "                                                   text  \n",
       "0     RT @snapdeal: What’s better than monsoon essen...  \n",
       "1     What’s better than monsoon essentials that mat...  \n",
       "2     @TommyHilfiger @CalvinKlein @Mango @VeroModaIn...  \n",
       "3     @satyam032 Hi! Sorry for the inconvenience cau...  \n",
       "4     @snapdeal Worst customer care service avoid Sn...  \n",
       "...                                                 ...  \n",
       "2476  @gola_ranjana Hi! As conveyed to you over the ...  \n",
       "2477  @gola_ranjana Our team got in touch with you a...  \n",
       "2478  @snapdeal Worst experience …return policy bhut...  \n",
       "2479                          @snapdeal Refund my money  \n",
       "2480                          @snapdeal Refund my money  \n",
       "\n",
       "[2481 rows x 4 columns]"
      ]
     },
     "execution_count": 4,
     "metadata": {},
     "output_type": "execute_result"
    }
   ],
   "source": [
    "dt3=pd.read_csv(r\"C:\\Users\\HP\\Desktop\\python/snapdeal_data1.csv\")\n",
    "dt3"
   ]
  },
  {
   "cell_type": "code",
   "execution_count": 5,
   "id": "68340d59",
   "metadata": {},
   "outputs": [
    {
     "name": "stderr",
     "output_type": "stream",
     "text": [
      "C:\\Users\\HP\\AppData\\Local\\Temp\\ipykernel_9892\\396363737.py:1: FutureWarning: The frame.append method is deprecated and will be removed from pandas in a future version. Use pandas.concat instead.\n",
      "  New_data=dt1.append([dt2,dt3],ignore_index=True)\n"
     ]
    },
    {
     "data": {
      "text/html": [
       "<div>\n",
       "<style scoped>\n",
       "    .dataframe tbody tr th:only-of-type {\n",
       "        vertical-align: middle;\n",
       "    }\n",
       "\n",
       "    .dataframe tbody tr th {\n",
       "        vertical-align: top;\n",
       "    }\n",
       "\n",
       "    .dataframe thead th {\n",
       "        text-align: right;\n",
       "    }\n",
       "</style>\n",
       "<table border=\"1\" class=\"dataframe\">\n",
       "  <thead>\n",
       "    <tr style=\"text-align: right;\">\n",
       "      <th></th>\n",
       "      <th>Users</th>\n",
       "      <th>location</th>\n",
       "      <th>created_at</th>\n",
       "      <th>text</th>\n",
       "    </tr>\n",
       "  </thead>\n",
       "  <tbody>\n",
       "    <tr>\n",
       "      <th>0</th>\n",
       "      <td>MuskaanChawla_</td>\n",
       "      <td>Gurgaon, India</td>\n",
       "      <td>2022-06-15 07:56:59+00:00</td>\n",
       "      <td>RT @DaoLens: The funding saw participation fro...</td>\n",
       "    </tr>\n",
       "    <tr>\n",
       "      <th>1</th>\n",
       "      <td>Pooja89020</td>\n",
       "      <td>Jaipur, India</td>\n",
       "      <td>2022-06-15 07:32:27+00:00</td>\n",
       "      <td>@Snapdeal_Help You haven’t responded!</td>\n",
       "    </tr>\n",
       "    <tr>\n",
       "      <th>2</th>\n",
       "      <td>Snapdeal_Help</td>\n",
       "      <td>India</td>\n",
       "      <td>2022-06-15 07:31:59+00:00</td>\n",
       "      <td>@Pooja89020 Hi! We have responded to your Priv...</td>\n",
       "    </tr>\n",
       "    <tr>\n",
       "      <th>3</th>\n",
       "      <td>Pooja89020</td>\n",
       "      <td>Jaipur, India</td>\n",
       "      <td>2022-06-15 07:26:09+00:00</td>\n",
       "      <td>@Snapdeal_Help Better reply on private message</td>\n",
       "    </tr>\n",
       "    <tr>\n",
       "      <th>4</th>\n",
       "      <td>Snapdeal_Help</td>\n",
       "      <td>India</td>\n",
       "      <td>2022-06-15 07:25:13+00:00</td>\n",
       "      <td>@Pooja89020 Hi! Sincere apologies for the unpl...</td>\n",
       "    </tr>\n",
       "    <tr>\n",
       "      <th>...</th>\n",
       "      <td>...</td>\n",
       "      <td>...</td>\n",
       "      <td>...</td>\n",
       "      <td>...</td>\n",
       "    </tr>\n",
       "    <tr>\n",
       "      <th>13746</th>\n",
       "      <td>Snapdeal_Help</td>\n",
       "      <td>India</td>\n",
       "      <td>2022-06-10 13:34:15+00:00</td>\n",
       "      <td>@gola_ranjana Hi! As conveyed to you over the ...</td>\n",
       "    </tr>\n",
       "    <tr>\n",
       "      <th>13747</th>\n",
       "      <td>Snapdeal_Help</td>\n",
       "      <td>India</td>\n",
       "      <td>2022-06-10 13:30:39+00:00</td>\n",
       "      <td>@gola_ranjana Our team got in touch with you a...</td>\n",
       "    </tr>\n",
       "    <tr>\n",
       "      <th>13748</th>\n",
       "      <td>gola_ranjana</td>\n",
       "      <td>Agra, India</td>\n",
       "      <td>2022-06-10 13:30:03+00:00</td>\n",
       "      <td>@snapdeal Worst experience …return policy bhut...</td>\n",
       "    </tr>\n",
       "    <tr>\n",
       "      <th>13749</th>\n",
       "      <td>gola_ranjana</td>\n",
       "      <td>Agra, India</td>\n",
       "      <td>2022-06-10 13:28:41+00:00</td>\n",
       "      <td>@snapdeal Refund my money</td>\n",
       "    </tr>\n",
       "    <tr>\n",
       "      <th>13750</th>\n",
       "      <td>gola_ranjana</td>\n",
       "      <td>Agra, India</td>\n",
       "      <td>2022-06-10 13:28:29+00:00</td>\n",
       "      <td>@snapdeal Refund my money</td>\n",
       "    </tr>\n",
       "  </tbody>\n",
       "</table>\n",
       "<p>13751 rows × 4 columns</p>\n",
       "</div>"
      ],
      "text/plain": [
       "                Users        location                 created_at  \\\n",
       "0      MuskaanChawla_  Gurgaon, India  2022-06-15 07:56:59+00:00   \n",
       "1          Pooja89020   Jaipur, India  2022-06-15 07:32:27+00:00   \n",
       "2       Snapdeal_Help           India  2022-06-15 07:31:59+00:00   \n",
       "3          Pooja89020   Jaipur, India  2022-06-15 07:26:09+00:00   \n",
       "4       Snapdeal_Help           India  2022-06-15 07:25:13+00:00   \n",
       "...               ...             ...                        ...   \n",
       "13746   Snapdeal_Help           India  2022-06-10 13:34:15+00:00   \n",
       "13747   Snapdeal_Help           India  2022-06-10 13:30:39+00:00   \n",
       "13748    gola_ranjana     Agra, India  2022-06-10 13:30:03+00:00   \n",
       "13749    gola_ranjana     Agra, India  2022-06-10 13:28:41+00:00   \n",
       "13750    gola_ranjana     Agra, India  2022-06-10 13:28:29+00:00   \n",
       "\n",
       "                                                    text  \n",
       "0      RT @DaoLens: The funding saw participation fro...  \n",
       "1                  @Snapdeal_Help You haven’t responded!  \n",
       "2      @Pooja89020 Hi! We have responded to your Priv...  \n",
       "3         @Snapdeal_Help Better reply on private message  \n",
       "4      @Pooja89020 Hi! Sincere apologies for the unpl...  \n",
       "...                                                  ...  \n",
       "13746  @gola_ranjana Hi! As conveyed to you over the ...  \n",
       "13747  @gola_ranjana Our team got in touch with you a...  \n",
       "13748  @snapdeal Worst experience …return policy bhut...  \n",
       "13749                          @snapdeal Refund my money  \n",
       "13750                          @snapdeal Refund my money  \n",
       "\n",
       "[13751 rows x 4 columns]"
      ]
     },
     "execution_count": 5,
     "metadata": {},
     "output_type": "execute_result"
    }
   ],
   "source": [
    "New_data=dt1.append([dt2,dt3],ignore_index=True)\n",
    "New_data"
   ]
  },
  {
   "cell_type": "code",
   "execution_count": 6,
   "id": "564839a5",
   "metadata": {},
   "outputs": [
    {
     "data": {
      "text/html": [
       "<div>\n",
       "<style scoped>\n",
       "    .dataframe tbody tr th:only-of-type {\n",
       "        vertical-align: middle;\n",
       "    }\n",
       "\n",
       "    .dataframe tbody tr th {\n",
       "        vertical-align: top;\n",
       "    }\n",
       "\n",
       "    .dataframe thead th {\n",
       "        text-align: right;\n",
       "    }\n",
       "</style>\n",
       "<table border=\"1\" class=\"dataframe\">\n",
       "  <thead>\n",
       "    <tr style=\"text-align: right;\">\n",
       "      <th></th>\n",
       "      <th>Users</th>\n",
       "      <th>location</th>\n",
       "      <th>created_at</th>\n",
       "      <th>text</th>\n",
       "    </tr>\n",
       "  </thead>\n",
       "  <tbody>\n",
       "    <tr>\n",
       "      <th>0</th>\n",
       "      <td>MuskaanChawla_</td>\n",
       "      <td>Gurgaon, India</td>\n",
       "      <td>2022-06-15 07:56:59+00:00</td>\n",
       "      <td>RT @DaoLens: The funding saw participation fro...</td>\n",
       "    </tr>\n",
       "    <tr>\n",
       "      <th>1</th>\n",
       "      <td>Pooja89020</td>\n",
       "      <td>Jaipur, India</td>\n",
       "      <td>2022-06-15 07:32:27+00:00</td>\n",
       "      <td>@Snapdeal_Help You haven’t responded!</td>\n",
       "    </tr>\n",
       "    <tr>\n",
       "      <th>2</th>\n",
       "      <td>Snapdeal_Help</td>\n",
       "      <td>India</td>\n",
       "      <td>2022-06-15 07:31:59+00:00</td>\n",
       "      <td>@Pooja89020 Hi! We have responded to your Priv...</td>\n",
       "    </tr>\n",
       "    <tr>\n",
       "      <th>3</th>\n",
       "      <td>Pooja89020</td>\n",
       "      <td>Jaipur, India</td>\n",
       "      <td>2022-06-15 07:26:09+00:00</td>\n",
       "      <td>@Snapdeal_Help Better reply on private message</td>\n",
       "    </tr>\n",
       "    <tr>\n",
       "      <th>4</th>\n",
       "      <td>Snapdeal_Help</td>\n",
       "      <td>India</td>\n",
       "      <td>2022-06-15 07:25:13+00:00</td>\n",
       "      <td>@Pooja89020 Hi! Sincere apologies for the unpl...</td>\n",
       "    </tr>\n",
       "  </tbody>\n",
       "</table>\n",
       "</div>"
      ],
      "text/plain": [
       "            Users        location                 created_at  \\\n",
       "0  MuskaanChawla_  Gurgaon, India  2022-06-15 07:56:59+00:00   \n",
       "1      Pooja89020   Jaipur, India  2022-06-15 07:32:27+00:00   \n",
       "2   Snapdeal_Help           India  2022-06-15 07:31:59+00:00   \n",
       "3      Pooja89020   Jaipur, India  2022-06-15 07:26:09+00:00   \n",
       "4   Snapdeal_Help           India  2022-06-15 07:25:13+00:00   \n",
       "\n",
       "                                                text  \n",
       "0  RT @DaoLens: The funding saw participation fro...  \n",
       "1              @Snapdeal_Help You haven’t responded!  \n",
       "2  @Pooja89020 Hi! We have responded to your Priv...  \n",
       "3     @Snapdeal_Help Better reply on private message  \n",
       "4  @Pooja89020 Hi! Sincere apologies for the unpl...  "
      ]
     },
     "execution_count": 6,
     "metadata": {},
     "output_type": "execute_result"
    }
   ],
   "source": [
    "New_data.head()"
   ]
  },
  {
   "cell_type": "code",
   "execution_count": 7,
   "id": "03141b21",
   "metadata": {},
   "outputs": [
    {
     "data": {
      "text/html": [
       "<div>\n",
       "<style scoped>\n",
       "    .dataframe tbody tr th:only-of-type {\n",
       "        vertical-align: middle;\n",
       "    }\n",
       "\n",
       "    .dataframe tbody tr th {\n",
       "        vertical-align: top;\n",
       "    }\n",
       "\n",
       "    .dataframe thead th {\n",
       "        text-align: right;\n",
       "    }\n",
       "</style>\n",
       "<table border=\"1\" class=\"dataframe\">\n",
       "  <thead>\n",
       "    <tr style=\"text-align: right;\">\n",
       "      <th></th>\n",
       "      <th>text</th>\n",
       "    </tr>\n",
       "  </thead>\n",
       "  <tbody>\n",
       "    <tr>\n",
       "      <th>0</th>\n",
       "      <td>RT @DaoLens: The funding saw participation fro...</td>\n",
       "    </tr>\n",
       "    <tr>\n",
       "      <th>1</th>\n",
       "      <td>@Snapdeal_Help You haven’t responded!</td>\n",
       "    </tr>\n",
       "    <tr>\n",
       "      <th>2</th>\n",
       "      <td>@Pooja89020 Hi! We have responded to your Priv...</td>\n",
       "    </tr>\n",
       "    <tr>\n",
       "      <th>3</th>\n",
       "      <td>@Snapdeal_Help Better reply on private message</td>\n",
       "    </tr>\n",
       "    <tr>\n",
       "      <th>4</th>\n",
       "      <td>@Pooja89020 Hi! Sincere apologies for the unpl...</td>\n",
       "    </tr>\n",
       "  </tbody>\n",
       "</table>\n",
       "</div>"
      ],
      "text/plain": [
       "                                                text\n",
       "0  RT @DaoLens: The funding saw participation fro...\n",
       "1              @Snapdeal_Help You haven’t responded!\n",
       "2  @Pooja89020 Hi! We have responded to your Priv...\n",
       "3     @Snapdeal_Help Better reply on private message\n",
       "4  @Pooja89020 Hi! Sincere apologies for the unpl..."
      ]
     },
     "execution_count": 7,
     "metadata": {},
     "output_type": "execute_result"
    }
   ],
   "source": [
    "new_data=pd.DataFrame(New_data.text)\n",
    "new_data.head()"
   ]
  },
  {
   "cell_type": "markdown",
   "id": "31fcfb06",
   "metadata": {},
   "source": [
    "## Lower Case"
   ]
  },
  {
   "cell_type": "code",
   "execution_count": 8,
   "id": "de045c64",
   "metadata": {},
   "outputs": [
    {
     "data": {
      "text/plain": [
       "0        rt @daolens: the funding saw participation fro...\n",
       "1                    @snapdeal_help you haven’t responded!\n",
       "2        @pooja89020 hi! we have responded to your priv...\n",
       "3           @snapdeal_help better reply on private message\n",
       "4        @pooja89020 hi! sincere apologies for the unpl...\n",
       "                               ...                        \n",
       "13746    @gola_ranjana hi! as conveyed to you over the ...\n",
       "13747    @gola_ranjana our team got in touch with you a...\n",
       "13748    @snapdeal worst experience …return policy bhut...\n",
       "13749                            @snapdeal refund my money\n",
       "13750                            @snapdeal refund my money\n",
       "Name: text, Length: 13751, dtype: object"
      ]
     },
     "execution_count": 8,
     "metadata": {},
     "output_type": "execute_result"
    }
   ],
   "source": [
    "new_data.text.str.lower()"
   ]
  },
  {
   "cell_type": "markdown",
   "id": "764dd486",
   "metadata": {},
   "source": [
    "## Removing Punctuation"
   ]
  },
  {
   "cell_type": "code",
   "execution_count": 9,
   "id": "be164f31",
   "metadata": {},
   "outputs": [
    {
     "data": {
      "text/plain": [
       "'!\"#$%&\\'()*+,-./:;<=>?@[\\\\]^_`{|}~'"
      ]
     },
     "execution_count": 9,
     "metadata": {},
     "output_type": "execute_result"
    }
   ],
   "source": [
    "import string\n",
    "string.punctuation"
   ]
  },
  {
   "cell_type": "code",
   "execution_count": 10,
   "id": "2bde420b",
   "metadata": {},
   "outputs": [],
   "source": [
    "def remove_punctuation(text):\n",
    "    punct=\"\".join([c for c in text if c not in string.punctuation])\n",
    "    return punct"
   ]
  },
  {
   "cell_type": "code",
   "execution_count": 11,
   "id": "613292b7",
   "metadata": {},
   "outputs": [],
   "source": [
    "new_data['text']=new_data['text'].apply(lambda x : remove_punctuation(x))"
   ]
  },
  {
   "cell_type": "code",
   "execution_count": 12,
   "id": "db6040fd",
   "metadata": {},
   "outputs": [
    {
     "data": {
      "text/plain": [
       "'RT DankMemesTelugu Ive been missing this trend of uninstalling Snapchat because Aamir was brand ambassador of Snapdeal and giving 1 rati…'"
      ]
     },
     "execution_count": 12,
     "metadata": {},
     "output_type": "execute_result"
    }
   ],
   "source": [
    "new_data.iloc[500,0]"
   ]
  },
  {
   "cell_type": "markdown",
   "id": "c460884e",
   "metadata": {},
   "source": [
    "## Remove URL"
   ]
  },
  {
   "cell_type": "code",
   "execution_count": 13,
   "id": "d606d736",
   "metadata": {},
   "outputs": [
    {
     "name": "stderr",
     "output_type": "stream",
     "text": [
      "C:\\Users\\HP\\AppData\\Local\\Temp\\ipykernel_9892\\926628334.py:1: FutureWarning: The default value of regex will change from True to False in a future version.\n",
      "  new_data.text=new_data.text.str.replace(r'http\\S+|www.\\S+','',case=False)\n"
     ]
    },
    {
     "data": {
      "text/plain": [
       "'RT IndianoFirst StarSportsIndia I was going to watch the matches but now I have unsubscribed your channel pack from all my subscriptio…'"
      ]
     },
     "execution_count": 13,
     "metadata": {},
     "output_type": "execute_result"
    }
   ],
   "source": [
    "new_data.text=new_data.text.str.replace(r'http\\S+|www.\\S+','',case=False)\n",
    "new_data.iloc[340,0]"
   ]
  },
  {
   "cell_type": "markdown",
   "id": "5b3dd592",
   "metadata": {},
   "source": [
    "## Remove Numbers"
   ]
  },
  {
   "cell_type": "code",
   "execution_count": 14,
   "id": "9fde083c",
   "metadata": {},
   "outputs": [
    {
     "name": "stderr",
     "output_type": "stream",
     "text": [
      "C:\\Users\\HP\\AppData\\Local\\Temp\\ipykernel_9892\\4112063441.py:1: FutureWarning: The default value of regex will change from True to False in a future version.\n",
      "  new_data.text=new_data.text.str.replace('\\d+','')\n"
     ]
    }
   ],
   "source": [
    "new_data.text=new_data.text.str.replace('\\d+','')"
   ]
  },
  {
   "cell_type": "markdown",
   "id": "4aab2c0f",
   "metadata": {},
   "source": [
    "## Remove Stopwords"
   ]
  },
  {
   "cell_type": "code",
   "execution_count": 15,
   "id": "930e2b57",
   "metadata": {},
   "outputs": [
    {
     "name": "stderr",
     "output_type": "stream",
     "text": [
      "[nltk_data] Downloading package stopwords to\n",
      "[nltk_data]     C:\\Users\\HP\\AppData\\Roaming\\nltk_data...\n",
      "[nltk_data]   Package stopwords is already up-to-date!\n"
     ]
    },
    {
     "data": {
      "text/plain": [
       "['i',\n",
       " 'me',\n",
       " 'my',\n",
       " 'myself',\n",
       " 'we',\n",
       " 'our',\n",
       " 'ours',\n",
       " 'ourselves',\n",
       " 'you',\n",
       " \"you're\",\n",
       " \"you've\",\n",
       " \"you'll\",\n",
       " \"you'd\",\n",
       " 'your',\n",
       " 'yours',\n",
       " 'yourself',\n",
       " 'yourselves',\n",
       " 'he',\n",
       " 'him',\n",
       " 'his',\n",
       " 'himself',\n",
       " 'she',\n",
       " \"she's\",\n",
       " 'her',\n",
       " 'hers',\n",
       " 'herself',\n",
       " 'it',\n",
       " \"it's\",\n",
       " 'its',\n",
       " 'itself',\n",
       " 'they',\n",
       " 'them',\n",
       " 'their',\n",
       " 'theirs',\n",
       " 'themselves',\n",
       " 'what',\n",
       " 'which',\n",
       " 'who',\n",
       " 'whom',\n",
       " 'this',\n",
       " 'that',\n",
       " \"that'll\",\n",
       " 'these',\n",
       " 'those',\n",
       " 'am',\n",
       " 'is',\n",
       " 'are',\n",
       " 'was',\n",
       " 'were',\n",
       " 'be',\n",
       " 'been',\n",
       " 'being',\n",
       " 'have',\n",
       " 'has',\n",
       " 'had',\n",
       " 'having',\n",
       " 'do',\n",
       " 'does',\n",
       " 'did',\n",
       " 'doing',\n",
       " 'a',\n",
       " 'an',\n",
       " 'the',\n",
       " 'and',\n",
       " 'but',\n",
       " 'if',\n",
       " 'or',\n",
       " 'because',\n",
       " 'as',\n",
       " 'until',\n",
       " 'while',\n",
       " 'of',\n",
       " 'at',\n",
       " 'by',\n",
       " 'for',\n",
       " 'with',\n",
       " 'about',\n",
       " 'against',\n",
       " 'between',\n",
       " 'into',\n",
       " 'through',\n",
       " 'during',\n",
       " 'before',\n",
       " 'after',\n",
       " 'above',\n",
       " 'below',\n",
       " 'to',\n",
       " 'from',\n",
       " 'up',\n",
       " 'down',\n",
       " 'in',\n",
       " 'out',\n",
       " 'on',\n",
       " 'off',\n",
       " 'over',\n",
       " 'under',\n",
       " 'again',\n",
       " 'further',\n",
       " 'then',\n",
       " 'once',\n",
       " 'here',\n",
       " 'there',\n",
       " 'when',\n",
       " 'where',\n",
       " 'why',\n",
       " 'how',\n",
       " 'all',\n",
       " 'any',\n",
       " 'both',\n",
       " 'each',\n",
       " 'few',\n",
       " 'more',\n",
       " 'most',\n",
       " 'other',\n",
       " 'some',\n",
       " 'such',\n",
       " 'no',\n",
       " 'nor',\n",
       " 'not',\n",
       " 'only',\n",
       " 'own',\n",
       " 'same',\n",
       " 'so',\n",
       " 'than',\n",
       " 'too',\n",
       " 'very',\n",
       " 's',\n",
       " 't',\n",
       " 'can',\n",
       " 'will',\n",
       " 'just',\n",
       " 'don',\n",
       " \"don't\",\n",
       " 'should',\n",
       " \"should've\",\n",
       " 'now',\n",
       " 'd',\n",
       " 'll',\n",
       " 'm',\n",
       " 'o',\n",
       " 're',\n",
       " 've',\n",
       " 'y',\n",
       " 'ain',\n",
       " 'aren',\n",
       " \"aren't\",\n",
       " 'couldn',\n",
       " \"couldn't\",\n",
       " 'didn',\n",
       " \"didn't\",\n",
       " 'doesn',\n",
       " \"doesn't\",\n",
       " 'hadn',\n",
       " \"hadn't\",\n",
       " 'hasn',\n",
       " \"hasn't\",\n",
       " 'haven',\n",
       " \"haven't\",\n",
       " 'isn',\n",
       " \"isn't\",\n",
       " 'ma',\n",
       " 'mightn',\n",
       " \"mightn't\",\n",
       " 'mustn',\n",
       " \"mustn't\",\n",
       " 'needn',\n",
       " \"needn't\",\n",
       " 'shan',\n",
       " \"shan't\",\n",
       " 'shouldn',\n",
       " \"shouldn't\",\n",
       " 'wasn',\n",
       " \"wasn't\",\n",
       " 'weren',\n",
       " \"weren't\",\n",
       " 'won',\n",
       " \"won't\",\n",
       " 'wouldn',\n",
       " \"wouldn't\"]"
      ]
     },
     "execution_count": 15,
     "metadata": {},
     "output_type": "execute_result"
    }
   ],
   "source": [
    "import nltk\n",
    "nltk.download('stopwords')\n",
    "from nltk.corpus import stopwords\n",
    "stops=stopwords.words('english')\n",
    "stops"
   ]
  },
  {
   "cell_type": "code",
   "execution_count": 16,
   "id": "94bfa1eb",
   "metadata": {},
   "outputs": [],
   "source": [
    "# Exclude stopwords with Python's list comprehension and pandas.DataFrame.apply.\n",
    "#data['text'] = data['text'].apply(lambda x: ' '.join([word for word in x.split() #\n",
    "                                                      #if word not in (stop)]))"
   ]
  },
  {
   "cell_type": "code",
   "execution_count": 17,
   "id": "d8fe10a9",
   "metadata": {},
   "outputs": [
    {
     "data": {
      "text/plain": [
       "'SnapdealHelp Rs   is credited just now At the end its a happy ending Sorry for my words I have used in frus… '"
      ]
     },
     "execution_count": 17,
     "metadata": {},
     "output_type": "execute_result"
    }
   ],
   "source": [
    "new_data.iloc[487,0]"
   ]
  },
  {
   "cell_type": "code",
   "execution_count": 18,
   "id": "b06f1716",
   "metadata": {},
   "outputs": [],
   "source": [
    "new_data['text']= new_data['text'].apply(lambda x:  ' '.join([word for word in x.split()\n",
    "                                                             if word not in (stops)]))"
   ]
  },
  {
   "cell_type": "code",
   "execution_count": 19,
   "id": "2a290791",
   "metadata": {},
   "outputs": [
    {
     "data": {
      "text/plain": [
       "'madhavshil Hi Please informed spam apps like SMS bomber used hackerspranksters load…'"
      ]
     },
     "execution_count": 19,
     "metadata": {},
     "output_type": "execute_result"
    }
   ],
   "source": [
    "new_data.iloc[427,0]"
   ]
  },
  {
   "cell_type": "markdown",
   "id": "a2c15ccc",
   "metadata": {},
   "source": [
    "## WordCloud"
   ]
  },
  {
   "cell_type": "code",
   "execution_count": 20,
   "id": "a3870aa5",
   "metadata": {},
   "outputs": [
    {
     "name": "stdout",
     "output_type": "stream",
     "text": [
      "There are 1157364 words in the combination of all review.\n"
     ]
    }
   ],
   "source": [
    "text = \" \".join(review for review in new_data.text)\n",
    "print (\"There are {} words in the combination of all review.\".format(len(text)))"
   ]
  },
  {
   "cell_type": "code",
   "execution_count": 21,
   "id": "2a78589e",
   "metadata": {},
   "outputs": [
    {
     "data": {
      "image/png": "[encoded data removed]",
      "text/plain": [
       "<Figure size 432x288 with 1 Axes>"
      ]
     },
     "metadata": {
      "needs_background": "light"
     },
     "output_type": "display_data"
    }
   ],
   "source": [
    "from wordcloud import WordCloud, STOPWORDS, ImageColorGenerator\n",
    "import matplotlib.pyplot as plt\n",
    "\n",
    "stopwords=set(STOPWORDS)\n",
    "\n",
    "cloud=WordCloud(stopwords=stopwords,\n",
    "         background_color='black',\n",
    "         collocations=False,\n",
    "         max_words=100).generate(text)\n",
    "\n",
    "plt.imshow(cloud,interpolation='bilinear')\n",
    "plt.axis('off')\n",
    "plt.show()\n",
    "\n"
   ]
  },
  {
   "cell_type": "markdown",
   "id": "b2459db7",
   "metadata": {},
   "source": [
    "## Sentiment Analysis"
   ]
  },
  {
   "cell_type": "code",
   "execution_count": 22,
   "id": "2318ce54",
   "metadata": {},
   "outputs": [
    {
     "data": {
      "text/html": [
       "<div>\n",
       "<style scoped>\n",
       "    .dataframe tbody tr th:only-of-type {\n",
       "        vertical-align: middle;\n",
       "    }\n",
       "\n",
       "    .dataframe tbody tr th {\n",
       "        vertical-align: top;\n",
       "    }\n",
       "\n",
       "    .dataframe thead th {\n",
       "        text-align: right;\n",
       "    }\n",
       "</style>\n",
       "<table border=\"1\" class=\"dataframe\">\n",
       "  <thead>\n",
       "    <tr style=\"text-align: right;\">\n",
       "      <th></th>\n",
       "      <th>text</th>\n",
       "    </tr>\n",
       "  </thead>\n",
       "  <tbody>\n",
       "    <tr>\n",
       "      <th>0</th>\n",
       "      <td>RT DaoLens The funding saw participation angel...</td>\n",
       "    </tr>\n",
       "    <tr>\n",
       "      <th>1</th>\n",
       "      <td>SnapdealHelp You haven’t responded</td>\n",
       "    </tr>\n",
       "    <tr>\n",
       "      <th>2</th>\n",
       "      <td>Pooja Hi We responded Private Message please c...</td>\n",
       "    </tr>\n",
       "    <tr>\n",
       "      <th>3</th>\n",
       "      <td>SnapdealHelp Better reply private message</td>\n",
       "    </tr>\n",
       "    <tr>\n",
       "      <th>4</th>\n",
       "      <td>Pooja Hi Sincere apologies unpleasant experien...</td>\n",
       "    </tr>\n",
       "  </tbody>\n",
       "</table>\n",
       "</div>"
      ],
      "text/plain": [
       "                                                text\n",
       "0  RT DaoLens The funding saw participation angel...\n",
       "1                 SnapdealHelp You haven’t responded\n",
       "2  Pooja Hi We responded Private Message please c...\n",
       "3          SnapdealHelp Better reply private message\n",
       "4  Pooja Hi Sincere apologies unpleasant experien..."
      ]
     },
     "execution_count": 22,
     "metadata": {},
     "output_type": "execute_result"
    }
   ],
   "source": [
    "new_data.head()"
   ]
  },
  {
   "cell_type": "code",
   "execution_count": 23,
   "id": "65ec1779",
   "metadata": {},
   "outputs": [],
   "source": [
    "new_data=new_data.drop_duplicates(subset='text',keep='first')"
   ]
  },
  {
   "cell_type": "code",
   "execution_count": 24,
   "id": "4abcb143",
   "metadata": {},
   "outputs": [
    {
     "data": {
      "text/html": [
       "<div>\n",
       "<style scoped>\n",
       "    .dataframe tbody tr th:only-of-type {\n",
       "        vertical-align: middle;\n",
       "    }\n",
       "\n",
       "    .dataframe tbody tr th {\n",
       "        vertical-align: top;\n",
       "    }\n",
       "\n",
       "    .dataframe thead th {\n",
       "        text-align: right;\n",
       "    }\n",
       "</style>\n",
       "<table border=\"1\" class=\"dataframe\">\n",
       "  <thead>\n",
       "    <tr style=\"text-align: right;\">\n",
       "      <th></th>\n",
       "      <th>text</th>\n",
       "    </tr>\n",
       "  </thead>\n",
       "  <tbody>\n",
       "    <tr>\n",
       "      <th>0</th>\n",
       "      <td>RT DaoLens The funding saw participation angel...</td>\n",
       "    </tr>\n",
       "    <tr>\n",
       "      <th>1</th>\n",
       "      <td>SnapdealHelp You haven’t responded</td>\n",
       "    </tr>\n",
       "    <tr>\n",
       "      <th>2</th>\n",
       "      <td>Pooja Hi We responded Private Message please c...</td>\n",
       "    </tr>\n",
       "    <tr>\n",
       "      <th>3</th>\n",
       "      <td>SnapdealHelp Better reply private message</td>\n",
       "    </tr>\n",
       "    <tr>\n",
       "      <th>4</th>\n",
       "      <td>Pooja Hi Sincere apologies unpleasant experien...</td>\n",
       "    </tr>\n",
       "    <tr>\n",
       "      <th>...</th>\n",
       "      <td>...</td>\n",
       "    </tr>\n",
       "    <tr>\n",
       "      <th>11319</th>\n",
       "      <td>snapdeal Kindly help orders please call detail...</td>\n",
       "    </tr>\n",
       "    <tr>\n",
       "      <th>11320</th>\n",
       "      <td>Your furry friend deserves nothing less best 🥰...</td>\n",
       "    </tr>\n",
       "    <tr>\n",
       "      <th>11321</th>\n",
       "      <td>Happy yoga day 🧘 Also choose wear wisely Our a...</td>\n",
       "    </tr>\n",
       "    <tr>\n",
       "      <th>11323</th>\n",
       "      <td>Shankhajana transactions Lifetime Free applica...</td>\n",
       "    </tr>\n",
       "    <tr>\n",
       "      <th>11324</th>\n",
       "      <td>Alisatirist Looking right away We call update ...</td>\n",
       "    </tr>\n",
       "  </tbody>\n",
       "</table>\n",
       "<p>8486 rows × 1 columns</p>\n",
       "</div>"
      ],
      "text/plain": [
       "                                                    text\n",
       "0      RT DaoLens The funding saw participation angel...\n",
       "1                     SnapdealHelp You haven’t responded\n",
       "2      Pooja Hi We responded Private Message please c...\n",
       "3              SnapdealHelp Better reply private message\n",
       "4      Pooja Hi Sincere apologies unpleasant experien...\n",
       "...                                                  ...\n",
       "11319  snapdeal Kindly help orders please call detail...\n",
       "11320  Your furry friend deserves nothing less best 🥰...\n",
       "11321  Happy yoga day 🧘 Also choose wear wisely Our a...\n",
       "11323  Shankhajana transactions Lifetime Free applica...\n",
       "11324  Alisatirist Looking right away We call update ...\n",
       "\n",
       "[8486 rows x 1 columns]"
      ]
     },
     "execution_count": 24,
     "metadata": {},
     "output_type": "execute_result"
    }
   ],
   "source": [
    "new_data"
   ]
  },
  {
   "cell_type": "code",
   "execution_count": 25,
   "id": "f0d12808",
   "metadata": {},
   "outputs": [
    {
     "data": {
      "text/html": [
       "<div>\n",
       "<style scoped>\n",
       "    .dataframe tbody tr th:only-of-type {\n",
       "        vertical-align: middle;\n",
       "    }\n",
       "\n",
       "    .dataframe tbody tr th {\n",
       "        vertical-align: top;\n",
       "    }\n",
       "\n",
       "    .dataframe thead th {\n",
       "        text-align: right;\n",
       "    }\n",
       "</style>\n",
       "<table border=\"1\" class=\"dataframe\">\n",
       "  <thead>\n",
       "    <tr style=\"text-align: right;\">\n",
       "      <th></th>\n",
       "      <th>text</th>\n",
       "      <th>polarity</th>\n",
       "    </tr>\n",
       "  </thead>\n",
       "  <tbody>\n",
       "    <tr>\n",
       "      <th>0</th>\n",
       "      <td>RT DaoLens The funding saw participation angel...</td>\n",
       "      <td>0.00</td>\n",
       "    </tr>\n",
       "    <tr>\n",
       "      <th>1</th>\n",
       "      <td>SnapdealHelp You haven’t responded</td>\n",
       "      <td>0.00</td>\n",
       "    </tr>\n",
       "    <tr>\n",
       "      <th>2</th>\n",
       "      <td>Pooja Hi We responded Private Message please c...</td>\n",
       "      <td>0.10</td>\n",
       "    </tr>\n",
       "    <tr>\n",
       "      <th>3</th>\n",
       "      <td>SnapdealHelp Better reply private message</td>\n",
       "      <td>0.25</td>\n",
       "    </tr>\n",
       "    <tr>\n",
       "      <th>4</th>\n",
       "      <td>Pooja Hi Sincere apologies unpleasant experien...</td>\n",
       "      <td>-0.05</td>\n",
       "    </tr>\n",
       "  </tbody>\n",
       "</table>\n",
       "</div>"
      ],
      "text/plain": [
       "                                                text  polarity\n",
       "0  RT DaoLens The funding saw participation angel...      0.00\n",
       "1                 SnapdealHelp You haven’t responded      0.00\n",
       "2  Pooja Hi We responded Private Message please c...      0.10\n",
       "3          SnapdealHelp Better reply private message      0.25\n",
       "4  Pooja Hi Sincere apologies unpleasant experien...     -0.05"
      ]
     },
     "execution_count": 25,
     "metadata": {},
     "output_type": "execute_result"
    }
   ],
   "source": [
    "from textblob import TextBlob\n",
    "\n",
    "pol=lambda x :TextBlob(x).sentiment.polarity\n",
    "new_data['polarity']=new_data['text'].apply(pol)\n",
    "new_data.head()"
   ]
  },
  {
   "cell_type": "code",
   "execution_count": 26,
   "id": "3b646b10",
   "metadata": {},
   "outputs": [
    {
     "data": {
      "text/html": [
       "<div>\n",
       "<style scoped>\n",
       "    .dataframe tbody tr th:only-of-type {\n",
       "        vertical-align: middle;\n",
       "    }\n",
       "\n",
       "    .dataframe tbody tr th {\n",
       "        vertical-align: top;\n",
       "    }\n",
       "\n",
       "    .dataframe thead th {\n",
       "        text-align: right;\n",
       "    }\n",
       "</style>\n",
       "<table border=\"1\" class=\"dataframe\">\n",
       "  <thead>\n",
       "    <tr style=\"text-align: right;\">\n",
       "      <th></th>\n",
       "      <th>text</th>\n",
       "      <th>polarity</th>\n",
       "      <th>Sentiment</th>\n",
       "    </tr>\n",
       "  </thead>\n",
       "  <tbody>\n",
       "    <tr>\n",
       "      <th>0</th>\n",
       "      <td>RT DaoLens The funding saw participation angel...</td>\n",
       "      <td>0.00</td>\n",
       "      <td>Negative</td>\n",
       "    </tr>\n",
       "    <tr>\n",
       "      <th>1</th>\n",
       "      <td>SnapdealHelp You haven’t responded</td>\n",
       "      <td>0.00</td>\n",
       "      <td>Negative</td>\n",
       "    </tr>\n",
       "    <tr>\n",
       "      <th>2</th>\n",
       "      <td>Pooja Hi We responded Private Message please c...</td>\n",
       "      <td>0.10</td>\n",
       "      <td>Negative</td>\n",
       "    </tr>\n",
       "    <tr>\n",
       "      <th>3</th>\n",
       "      <td>SnapdealHelp Better reply private message</td>\n",
       "      <td>0.25</td>\n",
       "      <td>Negative</td>\n",
       "    </tr>\n",
       "    <tr>\n",
       "      <th>4</th>\n",
       "      <td>Pooja Hi Sincere apologies unpleasant experien...</td>\n",
       "      <td>-0.05</td>\n",
       "      <td>Negative</td>\n",
       "    </tr>\n",
       "  </tbody>\n",
       "</table>\n",
       "</div>"
      ],
      "text/plain": [
       "                                                text  polarity Sentiment\n",
       "0  RT DaoLens The funding saw participation angel...      0.00  Negative\n",
       "1                 SnapdealHelp You haven’t responded      0.00  Negative\n",
       "2  Pooja Hi We responded Private Message please c...      0.10  Negative\n",
       "3          SnapdealHelp Better reply private message      0.25  Negative\n",
       "4  Pooja Hi Sincere apologies unpleasant experien...     -0.05  Negative"
      ]
     },
     "execution_count": 26,
     "metadata": {},
     "output_type": "execute_result"
    }
   ],
   "source": [
    "new_data['Sentiment']=np.where(new_data['polarity']>0.5,'Positive','Negative')\n",
    "new_data.head()"
   ]
  },
  {
   "cell_type": "code",
   "execution_count": 27,
   "id": "596d0c99",
   "metadata": {},
   "outputs": [
    {
     "data": {
      "text/plain": [
       "<AxesSubplot:>"
      ]
     },
     "execution_count": 27,
     "metadata": {},
     "output_type": "execute_result"
    },
    {
     "data": {
      "image/png": "[encoded data removed]",
      "text/plain": [
       "<Figure size 432x288 with 1 Axes>"
      ]
     },
     "metadata": {
      "needs_background": "light"
     },
     "output_type": "display_data"
    }
   ],
   "source": [
    "new_data.Sentiment.value_counts().plot.bar()"
   ]
  },
  {
   "cell_type": "code",
   "execution_count": 28,
   "id": "28a4b6a6",
   "metadata": {},
   "outputs": [
    {
     "data": {
      "image/png": "[encoded data removed]",
      "text/plain": [
       "<Figure size 432x288 with 1 Axes>"
      ]
     },
     "metadata": {},
     "output_type": "display_data"
    }
   ],
   "source": [
    "new_data.Sentiment.value_counts().plot.pie(autopct=\"%.1f%%\");"
   ]
  },
  {
   "cell_type": "code",
   "execution_count": 31,
   "id": "09165fa6",
   "metadata": {},
   "outputs": [],
   "source": [
    "import os \n",
    "os.chdir(r\"C:\\Users\\HP\\Desktop\\python\")\n",
    "new_data.to_csv(\"Final Project\",index=False)\n",
    "\n"
   ]
  }
 ],
 "metadata": {
  "kernelspec": {
   "display_name": "Python 3 (ipykernel)",
   "language": "python",
   "name": "python3"
  },
  "language_info": {
   "codemirror_mode": {
    "name": "ipython",
    "version": 3
   },
   "file_extension": ".py",
   "mimetype": "text/x-python",
   "name": "python",
   "nbconvert_exporter": "python",
   "pygments_lexer": "ipython3",
   "version": "3.9.12"
  }
 },
 "nbformat": 4,
 "nbformat_minor": 5
}
